{
 "cells": [
  {
   "cell_type": "markdown",
   "id": "9a96eb28",
   "metadata": {},
   "source": [
    "<h1><center>Finding Heavy Traffic Indicators on I-94 </h1>\n",
    "\n",
    "#### Project goal:\n",
    "This project aims to determine major indicators of heavy traffic on the I-94 Interstate highway. These indicators can be weather types (such as rain, snow) or time (like month, day, or hour), etc.\n",
    "\n",
    "#### Dataset:\n",
    "The traffic data was collected by a station located approximately midway between Minneapolis and Saint Paul. It was mentioned that they recorded westbound traffic (cars moving from east to west) from 2012-2018, so the result of our analysis will be about the westbound traffic only instead of the entire I-94 highway.\n",
    "\n",
    "The dataset can be found in [this link](https://archive.ics.uci.edu/ml/datasets/Metro+Interstate+Traffic+Volume)."
   ]
  },
  {
   "cell_type": "markdown",
   "id": "1cba26e8",
   "metadata": {},
   "source": [
    "## I. Reading and exploring data"
   ]
  },
  {
   "cell_type": "code",
   "execution_count": 1,
   "id": "064f9a15",
   "metadata": {},
   "outputs": [],
   "source": [
    "import pandas as pd\n",
    "import numpy as np\n",
    "import matplotlib.pyplot as plt\n",
    "%matplotlib inline\n",
    "\n",
    "import warnings\n",
    "warnings.filterwarnings(\"ignore\")"
   ]
  },
  {
   "cell_type": "code",
   "execution_count": 2,
   "id": "4c220a91",
   "metadata": {},
   "outputs": [],
   "source": [
    "traffic = pd.read_csv('Metro_Interstate_Traffic_Volume.csv')"
   ]
  },
  {
   "cell_type": "code",
   "execution_count": 3,
   "id": "f8e4608e",
   "metadata": {},
   "outputs": [
    {
     "data": {
      "text/html": [
       "<div>\n",
       "<style scoped>\n",
       "    .dataframe tbody tr th:only-of-type {\n",
       "        vertical-align: middle;\n",
       "    }\n",
       "\n",
       "    .dataframe tbody tr th {\n",
       "        vertical-align: top;\n",
       "    }\n",
       "\n",
       "    .dataframe thead th {\n",
       "        text-align: right;\n",
       "    }\n",
       "</style>\n",
       "<table border=\"1\" class=\"dataframe\">\n",
       "  <thead>\n",
       "    <tr style=\"text-align: right;\">\n",
       "      <th></th>\n",
       "      <th>holiday</th>\n",
       "      <th>temp</th>\n",
       "      <th>rain_1h</th>\n",
       "      <th>snow_1h</th>\n",
       "      <th>clouds_all</th>\n",
       "      <th>weather_main</th>\n",
       "      <th>weather_description</th>\n",
       "      <th>date_time</th>\n",
       "      <th>traffic_volume</th>\n",
       "    </tr>\n",
       "  </thead>\n",
       "  <tbody>\n",
       "    <tr>\n",
       "      <th>0</th>\n",
       "      <td>None</td>\n",
       "      <td>288.28</td>\n",
       "      <td>0.0</td>\n",
       "      <td>0.0</td>\n",
       "      <td>40</td>\n",
       "      <td>Clouds</td>\n",
       "      <td>scattered clouds</td>\n",
       "      <td>2012-10-02 09:00:00</td>\n",
       "      <td>5545</td>\n",
       "    </tr>\n",
       "    <tr>\n",
       "      <th>1</th>\n",
       "      <td>None</td>\n",
       "      <td>289.36</td>\n",
       "      <td>0.0</td>\n",
       "      <td>0.0</td>\n",
       "      <td>75</td>\n",
       "      <td>Clouds</td>\n",
       "      <td>broken clouds</td>\n",
       "      <td>2012-10-02 10:00:00</td>\n",
       "      <td>4516</td>\n",
       "    </tr>\n",
       "    <tr>\n",
       "      <th>2</th>\n",
       "      <td>None</td>\n",
       "      <td>289.58</td>\n",
       "      <td>0.0</td>\n",
       "      <td>0.0</td>\n",
       "      <td>90</td>\n",
       "      <td>Clouds</td>\n",
       "      <td>overcast clouds</td>\n",
       "      <td>2012-10-02 11:00:00</td>\n",
       "      <td>4767</td>\n",
       "    </tr>\n",
       "  </tbody>\n",
       "</table>\n",
       "</div>"
      ],
      "text/plain": [
       "  holiday    temp  rain_1h  snow_1h  clouds_all weather_main  \\\n",
       "0    None  288.28      0.0      0.0          40       Clouds   \n",
       "1    None  289.36      0.0      0.0          75       Clouds   \n",
       "2    None  289.58      0.0      0.0          90       Clouds   \n",
       "\n",
       "  weather_description            date_time  traffic_volume  \n",
       "0    scattered clouds  2012-10-02 09:00:00            5545  \n",
       "1       broken clouds  2012-10-02 10:00:00            4516  \n",
       "2     overcast clouds  2012-10-02 11:00:00            4767  "
      ]
     },
     "execution_count": 3,
     "metadata": {},
     "output_type": "execute_result"
    }
   ],
   "source": [
    "traffic.head(3)"
   ]
  },
  {
   "cell_type": "code",
   "execution_count": 4,
   "id": "0ffe6f75",
   "metadata": {},
   "outputs": [
    {
     "data": {
      "text/html": [
       "<div>\n",
       "<style scoped>\n",
       "    .dataframe tbody tr th:only-of-type {\n",
       "        vertical-align: middle;\n",
       "    }\n",
       "\n",
       "    .dataframe tbody tr th {\n",
       "        vertical-align: top;\n",
       "    }\n",
       "\n",
       "    .dataframe thead th {\n",
       "        text-align: right;\n",
       "    }\n",
       "</style>\n",
       "<table border=\"1\" class=\"dataframe\">\n",
       "  <thead>\n",
       "    <tr style=\"text-align: right;\">\n",
       "      <th></th>\n",
       "      <th>holiday</th>\n",
       "      <th>temp</th>\n",
       "      <th>rain_1h</th>\n",
       "      <th>snow_1h</th>\n",
       "      <th>clouds_all</th>\n",
       "      <th>weather_main</th>\n",
       "      <th>weather_description</th>\n",
       "      <th>date_time</th>\n",
       "      <th>traffic_volume</th>\n",
       "    </tr>\n",
       "  </thead>\n",
       "  <tbody>\n",
       "    <tr>\n",
       "      <th>48201</th>\n",
       "      <td>None</td>\n",
       "      <td>282.73</td>\n",
       "      <td>0.0</td>\n",
       "      <td>0.0</td>\n",
       "      <td>90</td>\n",
       "      <td>Thunderstorm</td>\n",
       "      <td>proximity thunderstorm</td>\n",
       "      <td>2018-09-30 21:00:00</td>\n",
       "      <td>2159</td>\n",
       "    </tr>\n",
       "    <tr>\n",
       "      <th>48202</th>\n",
       "      <td>None</td>\n",
       "      <td>282.09</td>\n",
       "      <td>0.0</td>\n",
       "      <td>0.0</td>\n",
       "      <td>90</td>\n",
       "      <td>Clouds</td>\n",
       "      <td>overcast clouds</td>\n",
       "      <td>2018-09-30 22:00:00</td>\n",
       "      <td>1450</td>\n",
       "    </tr>\n",
       "    <tr>\n",
       "      <th>48203</th>\n",
       "      <td>None</td>\n",
       "      <td>282.12</td>\n",
       "      <td>0.0</td>\n",
       "      <td>0.0</td>\n",
       "      <td>90</td>\n",
       "      <td>Clouds</td>\n",
       "      <td>overcast clouds</td>\n",
       "      <td>2018-09-30 23:00:00</td>\n",
       "      <td>954</td>\n",
       "    </tr>\n",
       "  </tbody>\n",
       "</table>\n",
       "</div>"
      ],
      "text/plain": [
       "      holiday    temp  rain_1h  snow_1h  clouds_all  weather_main  \\\n",
       "48201    None  282.73      0.0      0.0          90  Thunderstorm   \n",
       "48202    None  282.09      0.0      0.0          90        Clouds   \n",
       "48203    None  282.12      0.0      0.0          90        Clouds   \n",
       "\n",
       "          weather_description            date_time  traffic_volume  \n",
       "48201  proximity thunderstorm  2018-09-30 21:00:00            2159  \n",
       "48202         overcast clouds  2018-09-30 22:00:00            1450  \n",
       "48203         overcast clouds  2018-09-30 23:00:00             954  "
      ]
     },
     "execution_count": 4,
     "metadata": {},
     "output_type": "execute_result"
    }
   ],
   "source": [
    "traffic.tail(3)"
   ]
  },
  {
   "cell_type": "code",
   "execution_count": 5,
   "id": "176c9c5f",
   "metadata": {},
   "outputs": [
    {
     "name": "stdout",
     "output_type": "stream",
     "text": [
      "<class 'pandas.core.frame.DataFrame'>\n",
      "RangeIndex: 48204 entries, 0 to 48203\n",
      "Data columns (total 9 columns):\n",
      " #   Column               Non-Null Count  Dtype  \n",
      "---  ------               --------------  -----  \n",
      " 0   holiday              48204 non-null  object \n",
      " 1   temp                 48204 non-null  float64\n",
      " 2   rain_1h              48204 non-null  float64\n",
      " 3   snow_1h              48204 non-null  float64\n",
      " 4   clouds_all           48204 non-null  int64  \n",
      " 5   weather_main         48204 non-null  object \n",
      " 6   weather_description  48204 non-null  object \n",
      " 7   date_time            48204 non-null  object \n",
      " 8   traffic_volume       48204 non-null  int64  \n",
      "dtypes: float64(3), int64(2), object(4)\n",
      "memory usage: 3.3+ MB\n"
     ]
    }
   ],
   "source": [
    "traffic.info()"
   ]
  },
  {
   "cell_type": "markdown",
   "id": "15af6eb6",
   "metadata": {},
   "source": [
    "As we can see in the output, the data type of the ‘date_time’ column is currently \"object\", so our first step will be converting it to DateTime format."
   ]
  },
  {
   "cell_type": "markdown",
   "id": "736735f4",
   "metadata": {},
   "source": [
    "## II. Cleaning data"
   ]
  },
  {
   "cell_type": "code",
   "execution_count": 6,
   "id": "2472afdc",
   "metadata": {},
   "outputs": [
    {
     "name": "stdout",
     "output_type": "stream",
     "text": [
      "<class 'pandas.core.frame.DataFrame'>\n",
      "RangeIndex: 48204 entries, 0 to 48203\n",
      "Data columns (total 9 columns):\n",
      " #   Column               Non-Null Count  Dtype         \n",
      "---  ------               --------------  -----         \n",
      " 0   holiday              48204 non-null  object        \n",
      " 1   temp                 48204 non-null  float64       \n",
      " 2   rain_1h              48204 non-null  float64       \n",
      " 3   snow_1h              48204 non-null  float64       \n",
      " 4   clouds_all           48204 non-null  int64         \n",
      " 5   weather_main         48204 non-null  object        \n",
      " 6   weather_description  48204 non-null  object        \n",
      " 7   date_time            48204 non-null  datetime64[ns]\n",
      " 8   traffic_volume       48204 non-null  int64         \n",
      "dtypes: datetime64[ns](1), float64(3), int64(2), object(3)\n",
      "memory usage: 3.3+ MB\n"
     ]
    }
   ],
   "source": [
    "# Converting date_time colume to DateTime format \n",
    "\n",
    "traffic.date_time = pd.to_datetime(traffic.date_time)\n",
    "\n",
    "traffic.info()"
   ]
  },
  {
   "cell_type": "code",
   "execution_count": 7,
   "id": "0d4669dd",
   "metadata": {},
   "outputs": [
    {
     "data": {
      "text/html": [
       "<div>\n",
       "<style scoped>\n",
       "    .dataframe tbody tr th:only-of-type {\n",
       "        vertical-align: middle;\n",
       "    }\n",
       "\n",
       "    .dataframe tbody tr th {\n",
       "        vertical-align: top;\n",
       "    }\n",
       "\n",
       "    .dataframe thead th {\n",
       "        text-align: right;\n",
       "    }\n",
       "</style>\n",
       "<table border=\"1\" class=\"dataframe\">\n",
       "  <thead>\n",
       "    <tr style=\"text-align: right;\">\n",
       "      <th></th>\n",
       "      <th>holiday</th>\n",
       "      <th>temp</th>\n",
       "      <th>rain_1h</th>\n",
       "      <th>snow_1h</th>\n",
       "      <th>clouds_all</th>\n",
       "      <th>weather_main</th>\n",
       "      <th>weather_description</th>\n",
       "      <th>date_time</th>\n",
       "      <th>traffic_volume</th>\n",
       "    </tr>\n",
       "  </thead>\n",
       "  <tbody>\n",
       "    <tr>\n",
       "      <th>18697</th>\n",
       "      <td>None</td>\n",
       "      <td>286.290</td>\n",
       "      <td>0.0</td>\n",
       "      <td>0.0</td>\n",
       "      <td>1</td>\n",
       "      <td>Clear</td>\n",
       "      <td>sky is clear</td>\n",
       "      <td>2015-09-30 19:00:00</td>\n",
       "      <td>3679</td>\n",
       "    </tr>\n",
       "    <tr>\n",
       "      <th>23851</th>\n",
       "      <td>None</td>\n",
       "      <td>289.060</td>\n",
       "      <td>0.0</td>\n",
       "      <td>0.0</td>\n",
       "      <td>90</td>\n",
       "      <td>Clouds</td>\n",
       "      <td>overcast clouds</td>\n",
       "      <td>2016-06-01 10:00:00</td>\n",
       "      <td>4831</td>\n",
       "    </tr>\n",
       "    <tr>\n",
       "      <th>26784</th>\n",
       "      <td>None</td>\n",
       "      <td>289.775</td>\n",
       "      <td>0.0</td>\n",
       "      <td>0.0</td>\n",
       "      <td>56</td>\n",
       "      <td>Clouds</td>\n",
       "      <td>broken clouds</td>\n",
       "      <td>2016-09-21 15:00:00</td>\n",
       "      <td>5365</td>\n",
       "    </tr>\n",
       "    <tr>\n",
       "      <th>26980</th>\n",
       "      <td>None</td>\n",
       "      <td>287.860</td>\n",
       "      <td>0.0</td>\n",
       "      <td>0.0</td>\n",
       "      <td>0</td>\n",
       "      <td>Clear</td>\n",
       "      <td>Sky is Clear</td>\n",
       "      <td>2016-09-29 19:00:00</td>\n",
       "      <td>3435</td>\n",
       "    </tr>\n",
       "    <tr>\n",
       "      <th>27171</th>\n",
       "      <td>None</td>\n",
       "      <td>279.287</td>\n",
       "      <td>0.0</td>\n",
       "      <td>0.0</td>\n",
       "      <td>56</td>\n",
       "      <td>Clouds</td>\n",
       "      <td>broken clouds</td>\n",
       "      <td>2016-10-07 18:00:00</td>\n",
       "      <td>4642</td>\n",
       "    </tr>\n",
       "    <tr>\n",
       "      <th>28879</th>\n",
       "      <td>None</td>\n",
       "      <td>267.890</td>\n",
       "      <td>0.0</td>\n",
       "      <td>0.0</td>\n",
       "      <td>90</td>\n",
       "      <td>Snow</td>\n",
       "      <td>light snow</td>\n",
       "      <td>2016-12-06 18:00:00</td>\n",
       "      <td>4520</td>\n",
       "    </tr>\n",
       "    <tr>\n",
       "      <th>29268</th>\n",
       "      <td>None</td>\n",
       "      <td>254.220</td>\n",
       "      <td>0.0</td>\n",
       "      <td>0.0</td>\n",
       "      <td>1</td>\n",
       "      <td>Clear</td>\n",
       "      <td>sky is clear</td>\n",
       "      <td>2016-12-19 00:00:00</td>\n",
       "      <td>420</td>\n",
       "    </tr>\n",
       "    <tr>\n",
       "      <th>34711</th>\n",
       "      <td>None</td>\n",
       "      <td>295.010</td>\n",
       "      <td>0.0</td>\n",
       "      <td>0.0</td>\n",
       "      <td>40</td>\n",
       "      <td>Clouds</td>\n",
       "      <td>scattered clouds</td>\n",
       "      <td>2017-06-21 11:00:00</td>\n",
       "      <td>4808</td>\n",
       "    </tr>\n",
       "    <tr>\n",
       "      <th>34967</th>\n",
       "      <td>None</td>\n",
       "      <td>292.840</td>\n",
       "      <td>0.0</td>\n",
       "      <td>0.0</td>\n",
       "      <td>1</td>\n",
       "      <td>Clear</td>\n",
       "      <td>sky is clear</td>\n",
       "      <td>2017-06-30 10:00:00</td>\n",
       "      <td>4638</td>\n",
       "    </tr>\n",
       "    <tr>\n",
       "      <th>34969</th>\n",
       "      <td>None</td>\n",
       "      <td>294.520</td>\n",
       "      <td>0.0</td>\n",
       "      <td>0.0</td>\n",
       "      <td>1</td>\n",
       "      <td>Clear</td>\n",
       "      <td>sky is clear</td>\n",
       "      <td>2017-06-30 11:00:00</td>\n",
       "      <td>4725</td>\n",
       "    </tr>\n",
       "    <tr>\n",
       "      <th>34971</th>\n",
       "      <td>None</td>\n",
       "      <td>295.770</td>\n",
       "      <td>0.0</td>\n",
       "      <td>0.0</td>\n",
       "      <td>75</td>\n",
       "      <td>Clouds</td>\n",
       "      <td>broken clouds</td>\n",
       "      <td>2017-06-30 12:00:00</td>\n",
       "      <td>5229</td>\n",
       "    </tr>\n",
       "    <tr>\n",
       "      <th>34973</th>\n",
       "      <td>None</td>\n",
       "      <td>296.950</td>\n",
       "      <td>0.0</td>\n",
       "      <td>0.0</td>\n",
       "      <td>1</td>\n",
       "      <td>Thunderstorm</td>\n",
       "      <td>thunderstorm</td>\n",
       "      <td>2017-06-30 13:00:00</td>\n",
       "      <td>5263</td>\n",
       "    </tr>\n",
       "    <tr>\n",
       "      <th>37572</th>\n",
       "      <td>None</td>\n",
       "      <td>288.890</td>\n",
       "      <td>0.0</td>\n",
       "      <td>0.0</td>\n",
       "      <td>1</td>\n",
       "      <td>Clear</td>\n",
       "      <td>sky is clear</td>\n",
       "      <td>2017-09-29 19:00:00</td>\n",
       "      <td>4498</td>\n",
       "    </tr>\n",
       "    <tr>\n",
       "      <th>38676</th>\n",
       "      <td>None</td>\n",
       "      <td>278.720</td>\n",
       "      <td>0.0</td>\n",
       "      <td>0.0</td>\n",
       "      <td>90</td>\n",
       "      <td>Drizzle</td>\n",
       "      <td>light intensity drizzle</td>\n",
       "      <td>2017-11-05 01:00:00</td>\n",
       "      <td>629</td>\n",
       "    </tr>\n",
       "    <tr>\n",
       "      <th>38677</th>\n",
       "      <td>None</td>\n",
       "      <td>278.720</td>\n",
       "      <td>0.0</td>\n",
       "      <td>0.0</td>\n",
       "      <td>90</td>\n",
       "      <td>Mist</td>\n",
       "      <td>mist</td>\n",
       "      <td>2017-11-05 01:00:00</td>\n",
       "      <td>629</td>\n",
       "    </tr>\n",
       "    <tr>\n",
       "      <th>39527</th>\n",
       "      <td>None</td>\n",
       "      <td>266.220</td>\n",
       "      <td>0.0</td>\n",
       "      <td>0.0</td>\n",
       "      <td>1</td>\n",
       "      <td>Clear</td>\n",
       "      <td>sky is clear</td>\n",
       "      <td>2017-12-05 18:00:00</td>\n",
       "      <td>3936</td>\n",
       "    </tr>\n",
       "    <tr>\n",
       "      <th>48173</th>\n",
       "      <td>None</td>\n",
       "      <td>280.680</td>\n",
       "      <td>0.0</td>\n",
       "      <td>0.0</td>\n",
       "      <td>90</td>\n",
       "      <td>Clouds</td>\n",
       "      <td>overcast clouds</td>\n",
       "      <td>2018-09-29 19:00:00</td>\n",
       "      <td>3818</td>\n",
       "    </tr>\n",
       "  </tbody>\n",
       "</table>\n",
       "</div>"
      ],
      "text/plain": [
       "      holiday     temp  rain_1h  snow_1h  clouds_all  weather_main  \\\n",
       "18697    None  286.290      0.0      0.0           1         Clear   \n",
       "23851    None  289.060      0.0      0.0          90        Clouds   \n",
       "26784    None  289.775      0.0      0.0          56        Clouds   \n",
       "26980    None  287.860      0.0      0.0           0         Clear   \n",
       "27171    None  279.287      0.0      0.0          56        Clouds   \n",
       "28879    None  267.890      0.0      0.0          90          Snow   \n",
       "29268    None  254.220      0.0      0.0           1         Clear   \n",
       "34711    None  295.010      0.0      0.0          40        Clouds   \n",
       "34967    None  292.840      0.0      0.0           1         Clear   \n",
       "34969    None  294.520      0.0      0.0           1         Clear   \n",
       "34971    None  295.770      0.0      0.0          75        Clouds   \n",
       "34973    None  296.950      0.0      0.0           1  Thunderstorm   \n",
       "37572    None  288.890      0.0      0.0           1         Clear   \n",
       "38676    None  278.720      0.0      0.0          90       Drizzle   \n",
       "38677    None  278.720      0.0      0.0          90          Mist   \n",
       "39527    None  266.220      0.0      0.0           1         Clear   \n",
       "48173    None  280.680      0.0      0.0          90        Clouds   \n",
       "\n",
       "           weather_description           date_time  traffic_volume  \n",
       "18697             sky is clear 2015-09-30 19:00:00            3679  \n",
       "23851          overcast clouds 2016-06-01 10:00:00            4831  \n",
       "26784            broken clouds 2016-09-21 15:00:00            5365  \n",
       "26980             Sky is Clear 2016-09-29 19:00:00            3435  \n",
       "27171            broken clouds 2016-10-07 18:00:00            4642  \n",
       "28879               light snow 2016-12-06 18:00:00            4520  \n",
       "29268             sky is clear 2016-12-19 00:00:00             420  \n",
       "34711         scattered clouds 2017-06-21 11:00:00            4808  \n",
       "34967             sky is clear 2017-06-30 10:00:00            4638  \n",
       "34969             sky is clear 2017-06-30 11:00:00            4725  \n",
       "34971            broken clouds 2017-06-30 12:00:00            5229  \n",
       "34973             thunderstorm 2017-06-30 13:00:00            5263  \n",
       "37572             sky is clear 2017-09-29 19:00:00            4498  \n",
       "38676  light intensity drizzle 2017-11-05 01:00:00             629  \n",
       "38677                     mist 2017-11-05 01:00:00             629  \n",
       "39527             sky is clear 2017-12-05 18:00:00            3936  \n",
       "48173          overcast clouds 2018-09-29 19:00:00            3818  "
      ]
     },
     "execution_count": 7,
     "metadata": {},
     "output_type": "execute_result"
    }
   ],
   "source": [
    "# Finding duplicates\n",
    "\n",
    "duplicate = traffic[traffic.duplicated()==True]\n",
    "\n",
    "duplicate"
   ]
  },
  {
   "cell_type": "code",
   "execution_count": 8,
   "id": "154a77b4",
   "metadata": {},
   "outputs": [
    {
     "data": {
      "text/html": [
       "<div>\n",
       "<style scoped>\n",
       "    .dataframe tbody tr th:only-of-type {\n",
       "        vertical-align: middle;\n",
       "    }\n",
       "\n",
       "    .dataframe tbody tr th {\n",
       "        vertical-align: top;\n",
       "    }\n",
       "\n",
       "    .dataframe thead th {\n",
       "        text-align: right;\n",
       "    }\n",
       "</style>\n",
       "<table border=\"1\" class=\"dataframe\">\n",
       "  <thead>\n",
       "    <tr style=\"text-align: right;\">\n",
       "      <th></th>\n",
       "      <th>holiday</th>\n",
       "      <th>temp</th>\n",
       "      <th>rain_1h</th>\n",
       "      <th>snow_1h</th>\n",
       "      <th>clouds_all</th>\n",
       "      <th>weather_main</th>\n",
       "      <th>weather_description</th>\n",
       "      <th>date_time</th>\n",
       "      <th>traffic_volume</th>\n",
       "    </tr>\n",
       "  </thead>\n",
       "  <tbody>\n",
       "    <tr>\n",
       "      <th>34972</th>\n",
       "      <td>None</td>\n",
       "      <td>296.95</td>\n",
       "      <td>0.0</td>\n",
       "      <td>0.0</td>\n",
       "      <td>1</td>\n",
       "      <td>Thunderstorm</td>\n",
       "      <td>thunderstorm</td>\n",
       "      <td>2017-06-30 13:00:00</td>\n",
       "      <td>5263</td>\n",
       "    </tr>\n",
       "    <tr>\n",
       "      <th>34973</th>\n",
       "      <td>None</td>\n",
       "      <td>296.95</td>\n",
       "      <td>0.0</td>\n",
       "      <td>0.0</td>\n",
       "      <td>1</td>\n",
       "      <td>Thunderstorm</td>\n",
       "      <td>thunderstorm</td>\n",
       "      <td>2017-06-30 13:00:00</td>\n",
       "      <td>5263</td>\n",
       "    </tr>\n",
       "  </tbody>\n",
       "</table>\n",
       "</div>"
      ],
      "text/plain": [
       "      holiday    temp  rain_1h  snow_1h  clouds_all  weather_main  \\\n",
       "34972    None  296.95      0.0      0.0           1  Thunderstorm   \n",
       "34973    None  296.95      0.0      0.0           1  Thunderstorm   \n",
       "\n",
       "      weather_description           date_time  traffic_volume  \n",
       "34972        thunderstorm 2017-06-30 13:00:00            5263  \n",
       "34973        thunderstorm 2017-06-30 13:00:00            5263  "
      ]
     },
     "execution_count": 8,
     "metadata": {},
     "output_type": "execute_result"
    }
   ],
   "source": [
    "# Randomly checking some records to confirm duplicate\n",
    "\n",
    "traffic[(traffic.date_time == '2017-06-30 13:00:00')]"
   ]
  },
  {
   "cell_type": "code",
   "execution_count": 9,
   "id": "a6b9d5e5",
   "metadata": {},
   "outputs": [
    {
     "data": {
      "text/html": [
       "<div>\n",
       "<style scoped>\n",
       "    .dataframe tbody tr th:only-of-type {\n",
       "        vertical-align: middle;\n",
       "    }\n",
       "\n",
       "    .dataframe tbody tr th {\n",
       "        vertical-align: top;\n",
       "    }\n",
       "\n",
       "    .dataframe thead th {\n",
       "        text-align: right;\n",
       "    }\n",
       "</style>\n",
       "<table border=\"1\" class=\"dataframe\">\n",
       "  <thead>\n",
       "    <tr style=\"text-align: right;\">\n",
       "      <th></th>\n",
       "      <th>holiday</th>\n",
       "      <th>temp</th>\n",
       "      <th>rain_1h</th>\n",
       "      <th>snow_1h</th>\n",
       "      <th>clouds_all</th>\n",
       "      <th>weather_main</th>\n",
       "      <th>weather_description</th>\n",
       "      <th>date_time</th>\n",
       "      <th>traffic_volume</th>\n",
       "    </tr>\n",
       "  </thead>\n",
       "  <tbody>\n",
       "    <tr>\n",
       "      <th>0</th>\n",
       "      <td>None</td>\n",
       "      <td>288.28</td>\n",
       "      <td>0.0</td>\n",
       "      <td>0.0</td>\n",
       "      <td>40</td>\n",
       "      <td>Clouds</td>\n",
       "      <td>scattered clouds</td>\n",
       "      <td>2012-10-02 09:00:00</td>\n",
       "      <td>5545</td>\n",
       "    </tr>\n",
       "    <tr>\n",
       "      <th>1</th>\n",
       "      <td>None</td>\n",
       "      <td>289.36</td>\n",
       "      <td>0.0</td>\n",
       "      <td>0.0</td>\n",
       "      <td>75</td>\n",
       "      <td>Clouds</td>\n",
       "      <td>broken clouds</td>\n",
       "      <td>2012-10-02 10:00:00</td>\n",
       "      <td>4516</td>\n",
       "    </tr>\n",
       "    <tr>\n",
       "      <th>2</th>\n",
       "      <td>None</td>\n",
       "      <td>289.58</td>\n",
       "      <td>0.0</td>\n",
       "      <td>0.0</td>\n",
       "      <td>90</td>\n",
       "      <td>Clouds</td>\n",
       "      <td>overcast clouds</td>\n",
       "      <td>2012-10-02 11:00:00</td>\n",
       "      <td>4767</td>\n",
       "    </tr>\n",
       "    <tr>\n",
       "      <th>3</th>\n",
       "      <td>None</td>\n",
       "      <td>290.13</td>\n",
       "      <td>0.0</td>\n",
       "      <td>0.0</td>\n",
       "      <td>90</td>\n",
       "      <td>Clouds</td>\n",
       "      <td>overcast clouds</td>\n",
       "      <td>2012-10-02 12:00:00</td>\n",
       "      <td>5026</td>\n",
       "    </tr>\n",
       "    <tr>\n",
       "      <th>4</th>\n",
       "      <td>None</td>\n",
       "      <td>291.14</td>\n",
       "      <td>0.0</td>\n",
       "      <td>0.0</td>\n",
       "      <td>75</td>\n",
       "      <td>Clouds</td>\n",
       "      <td>broken clouds</td>\n",
       "      <td>2012-10-02 13:00:00</td>\n",
       "      <td>4918</td>\n",
       "    </tr>\n",
       "    <tr>\n",
       "      <th>...</th>\n",
       "      <td>...</td>\n",
       "      <td>...</td>\n",
       "      <td>...</td>\n",
       "      <td>...</td>\n",
       "      <td>...</td>\n",
       "      <td>...</td>\n",
       "      <td>...</td>\n",
       "      <td>...</td>\n",
       "      <td>...</td>\n",
       "    </tr>\n",
       "    <tr>\n",
       "      <th>48199</th>\n",
       "      <td>None</td>\n",
       "      <td>283.45</td>\n",
       "      <td>0.0</td>\n",
       "      <td>0.0</td>\n",
       "      <td>75</td>\n",
       "      <td>Clouds</td>\n",
       "      <td>broken clouds</td>\n",
       "      <td>2018-09-30 19:00:00</td>\n",
       "      <td>3543</td>\n",
       "    </tr>\n",
       "    <tr>\n",
       "      <th>48200</th>\n",
       "      <td>None</td>\n",
       "      <td>282.76</td>\n",
       "      <td>0.0</td>\n",
       "      <td>0.0</td>\n",
       "      <td>90</td>\n",
       "      <td>Clouds</td>\n",
       "      <td>overcast clouds</td>\n",
       "      <td>2018-09-30 20:00:00</td>\n",
       "      <td>2781</td>\n",
       "    </tr>\n",
       "    <tr>\n",
       "      <th>48201</th>\n",
       "      <td>None</td>\n",
       "      <td>282.73</td>\n",
       "      <td>0.0</td>\n",
       "      <td>0.0</td>\n",
       "      <td>90</td>\n",
       "      <td>Thunderstorm</td>\n",
       "      <td>proximity thunderstorm</td>\n",
       "      <td>2018-09-30 21:00:00</td>\n",
       "      <td>2159</td>\n",
       "    </tr>\n",
       "    <tr>\n",
       "      <th>48202</th>\n",
       "      <td>None</td>\n",
       "      <td>282.09</td>\n",
       "      <td>0.0</td>\n",
       "      <td>0.0</td>\n",
       "      <td>90</td>\n",
       "      <td>Clouds</td>\n",
       "      <td>overcast clouds</td>\n",
       "      <td>2018-09-30 22:00:00</td>\n",
       "      <td>1450</td>\n",
       "    </tr>\n",
       "    <tr>\n",
       "      <th>48203</th>\n",
       "      <td>None</td>\n",
       "      <td>282.12</td>\n",
       "      <td>0.0</td>\n",
       "      <td>0.0</td>\n",
       "      <td>90</td>\n",
       "      <td>Clouds</td>\n",
       "      <td>overcast clouds</td>\n",
       "      <td>2018-09-30 23:00:00</td>\n",
       "      <td>954</td>\n",
       "    </tr>\n",
       "  </tbody>\n",
       "</table>\n",
       "<p>48187 rows × 9 columns</p>\n",
       "</div>"
      ],
      "text/plain": [
       "      holiday    temp  rain_1h  snow_1h  clouds_all  weather_main  \\\n",
       "0        None  288.28      0.0      0.0          40        Clouds   \n",
       "1        None  289.36      0.0      0.0          75        Clouds   \n",
       "2        None  289.58      0.0      0.0          90        Clouds   \n",
       "3        None  290.13      0.0      0.0          90        Clouds   \n",
       "4        None  291.14      0.0      0.0          75        Clouds   \n",
       "...       ...     ...      ...      ...         ...           ...   \n",
       "48199    None  283.45      0.0      0.0          75        Clouds   \n",
       "48200    None  282.76      0.0      0.0          90        Clouds   \n",
       "48201    None  282.73      0.0      0.0          90  Thunderstorm   \n",
       "48202    None  282.09      0.0      0.0          90        Clouds   \n",
       "48203    None  282.12      0.0      0.0          90        Clouds   \n",
       "\n",
       "          weather_description           date_time  traffic_volume  \n",
       "0            scattered clouds 2012-10-02 09:00:00            5545  \n",
       "1               broken clouds 2012-10-02 10:00:00            4516  \n",
       "2             overcast clouds 2012-10-02 11:00:00            4767  \n",
       "3             overcast clouds 2012-10-02 12:00:00            5026  \n",
       "4               broken clouds 2012-10-02 13:00:00            4918  \n",
       "...                       ...                 ...             ...  \n",
       "48199           broken clouds 2018-09-30 19:00:00            3543  \n",
       "48200         overcast clouds 2018-09-30 20:00:00            2781  \n",
       "48201  proximity thunderstorm 2018-09-30 21:00:00            2159  \n",
       "48202         overcast clouds 2018-09-30 22:00:00            1450  \n",
       "48203         overcast clouds 2018-09-30 23:00:00             954  \n",
       "\n",
       "[48187 rows x 9 columns]"
      ]
     },
     "execution_count": 9,
     "metadata": {},
     "output_type": "execute_result"
    }
   ],
   "source": [
    "# Isolating duplicate from the dataset\n",
    "\n",
    "traffic = traffic[traffic.duplicated()==False]\n",
    "\n",
    "traffic"
   ]
  },
  {
   "cell_type": "code",
   "execution_count": 10,
   "id": "76ae70fb",
   "metadata": {},
   "outputs": [
    {
     "data": {
      "text/plain": [
       "48204"
      ]
     },
     "execution_count": 10,
     "metadata": {},
     "output_type": "execute_result"
    }
   ],
   "source": [
    "len(traffic) + len(duplicate)"
   ]
  },
  {
   "cell_type": "markdown",
   "id": "7e372d93",
   "metadata": {},
   "source": [
    "#### Now we have a dataset with 48187 unique records and no null value. The data looks quite clean now, so we will start analyzing it. "
   ]
  },
  {
   "cell_type": "markdown",
   "id": "7f30f5e4",
   "metadata": {},
   "source": [
    "## III. Analyzing data"
   ]
  },
  {
   "cell_type": "markdown",
   "id": "61ca061a",
   "metadata": {},
   "source": [
    "Let's plot a histogram to examine the traffic volume distribution."
   ]
  },
  {
   "cell_type": "code",
   "execution_count": 11,
   "id": "23a3f202",
   "metadata": {},
   "outputs": [
    {
     "data": {
      "text/plain": [
       "<AxesSubplot:ylabel='Frequency'>"
      ]
     },
     "execution_count": 11,
     "metadata": {},
     "output_type": "execute_result"
    },
    {
     "data": {
      "image/png": "[encoded data removed]",
      "text/plain": [
       "<Figure size 432x288 with 1 Axes>"
      ]
     },
     "metadata": {
      "needs_background": "light"
     },
     "output_type": "display_data"
    }
   ],
   "source": [
    "traffic.traffic_volume.plot.hist()"
   ]
  },
  {
   "cell_type": "code",
   "execution_count": 12,
   "id": "489f55f7",
   "metadata": {},
   "outputs": [
    {
     "data": {
      "text/plain": [
       "count    48187.000000\n",
       "mean      3259.618134\n",
       "std       1986.954465\n",
       "min          0.000000\n",
       "25%       1192.500000\n",
       "50%       3379.000000\n",
       "75%       4933.000000\n",
       "max       7280.000000\n",
       "Name: traffic_volume, dtype: float64"
      ]
     },
     "execution_count": 12,
     "metadata": {},
     "output_type": "execute_result"
    }
   ],
   "source": [
    "traffic.traffic_volume.describe()"
   ]
  },
  {
   "cell_type": "markdown",
   "id": "b93e0b1c",
   "metadata": {},
   "source": [
    "<p style='background:yellow'>Some observations:\n",
    "<br>- The most frequent traffic volume was ~8000, which were in the range of (0 to 1000) and (4500 to 5000)\n",
    "<br>- Minimum traffic volume was 0, and the maximum was 7280\n",
    "<br>- About 25% of the time, there were only 1193 cars or fewer, and about 25% of the time, the traffic volume was four times higher (4933 cars or more)\n",
    "<br>\n",
    "<br>Our first guess is that there's a possibility that traffic volume was influenced by daytime and nighttime. So we will use the date_time column to find if there are any trends associated with a particular time of the day.</p>"
   ]
  },
  {
   "cell_type": "markdown",
   "id": "94690cf2",
   "metadata": {},
   "source": [
    "### 1. Comparing traffic during day and night time"
   ]
  },
  {
   "cell_type": "markdown",
   "id": "cb45900e",
   "metadata": {},
   "source": [
    "We'll start by dividing the dataset into two parts:\n",
    "- Daytime data: hours from 7 AM to 7 PM (12 hours)\n",
    "- Nighttime data: hours from 7 PM to 7 AM (12 hours)"
   ]
  },
  {
   "cell_type": "code",
   "execution_count": 13,
   "id": "3dab8063",
   "metadata": {},
   "outputs": [
    {
     "data": {
      "text/html": [
       "<div>\n",
       "<style scoped>\n",
       "    .dataframe tbody tr th:only-of-type {\n",
       "        vertical-align: middle;\n",
       "    }\n",
       "\n",
       "    .dataframe tbody tr th {\n",
       "        vertical-align: top;\n",
       "    }\n",
       "\n",
       "    .dataframe thead th {\n",
       "        text-align: right;\n",
       "    }\n",
       "</style>\n",
       "<table border=\"1\" class=\"dataframe\">\n",
       "  <thead>\n",
       "    <tr style=\"text-align: right;\">\n",
       "      <th></th>\n",
       "      <th>holiday</th>\n",
       "      <th>temp</th>\n",
       "      <th>rain_1h</th>\n",
       "      <th>snow_1h</th>\n",
       "      <th>clouds_all</th>\n",
       "      <th>weather_main</th>\n",
       "      <th>weather_description</th>\n",
       "      <th>date_time</th>\n",
       "      <th>traffic_volume</th>\n",
       "      <th>hour</th>\n",
       "    </tr>\n",
       "  </thead>\n",
       "  <tbody>\n",
       "    <tr>\n",
       "      <th>0</th>\n",
       "      <td>None</td>\n",
       "      <td>288.28</td>\n",
       "      <td>0.0</td>\n",
       "      <td>0.0</td>\n",
       "      <td>40</td>\n",
       "      <td>Clouds</td>\n",
       "      <td>scattered clouds</td>\n",
       "      <td>2012-10-02 09:00:00</td>\n",
       "      <td>5545</td>\n",
       "      <td>9</td>\n",
       "    </tr>\n",
       "  </tbody>\n",
       "</table>\n",
       "</div>"
      ],
      "text/plain": [
       "  holiday    temp  rain_1h  snow_1h  clouds_all weather_main  \\\n",
       "0    None  288.28      0.0      0.0          40       Clouds   \n",
       "\n",
       "  weather_description           date_time  traffic_volume  hour  \n",
       "0    scattered clouds 2012-10-02 09:00:00            5545     9  "
      ]
     },
     "execution_count": 13,
     "metadata": {},
     "output_type": "execute_result"
    }
   ],
   "source": [
    "traffic['hour'] = traffic.date_time.dt.hour\n",
    "traffic.head(1)"
   ]
  },
  {
   "cell_type": "code",
   "execution_count": 14,
   "id": "64934a2e",
   "metadata": {},
   "outputs": [
    {
     "data": {
      "text/html": [
       "<div>\n",
       "<style scoped>\n",
       "    .dataframe tbody tr th:only-of-type {\n",
       "        vertical-align: middle;\n",
       "    }\n",
       "\n",
       "    .dataframe tbody tr th {\n",
       "        vertical-align: top;\n",
       "    }\n",
       "\n",
       "    .dataframe thead th {\n",
       "        text-align: right;\n",
       "    }\n",
       "</style>\n",
       "<table border=\"1\" class=\"dataframe\">\n",
       "  <thead>\n",
       "    <tr style=\"text-align: right;\">\n",
       "      <th></th>\n",
       "      <th>holiday</th>\n",
       "      <th>temp</th>\n",
       "      <th>rain_1h</th>\n",
       "      <th>snow_1h</th>\n",
       "      <th>clouds_all</th>\n",
       "      <th>weather_main</th>\n",
       "      <th>weather_description</th>\n",
       "      <th>date_time</th>\n",
       "      <th>traffic_volume</th>\n",
       "      <th>hour</th>\n",
       "    </tr>\n",
       "  </thead>\n",
       "  <tbody>\n",
       "    <tr>\n",
       "      <th>0</th>\n",
       "      <td>None</td>\n",
       "      <td>288.28</td>\n",
       "      <td>0.0</td>\n",
       "      <td>0.0</td>\n",
       "      <td>40</td>\n",
       "      <td>Clouds</td>\n",
       "      <td>scattered clouds</td>\n",
       "      <td>2012-10-02 09:00:00</td>\n",
       "      <td>5545</td>\n",
       "      <td>9</td>\n",
       "    </tr>\n",
       "    <tr>\n",
       "      <th>1</th>\n",
       "      <td>None</td>\n",
       "      <td>289.36</td>\n",
       "      <td>0.0</td>\n",
       "      <td>0.0</td>\n",
       "      <td>75</td>\n",
       "      <td>Clouds</td>\n",
       "      <td>broken clouds</td>\n",
       "      <td>2012-10-02 10:00:00</td>\n",
       "      <td>4516</td>\n",
       "      <td>10</td>\n",
       "    </tr>\n",
       "    <tr>\n",
       "      <th>2</th>\n",
       "      <td>None</td>\n",
       "      <td>289.58</td>\n",
       "      <td>0.0</td>\n",
       "      <td>0.0</td>\n",
       "      <td>90</td>\n",
       "      <td>Clouds</td>\n",
       "      <td>overcast clouds</td>\n",
       "      <td>2012-10-02 11:00:00</td>\n",
       "      <td>4767</td>\n",
       "      <td>11</td>\n",
       "    </tr>\n",
       "  </tbody>\n",
       "</table>\n",
       "</div>"
      ],
      "text/plain": [
       "  holiday    temp  rain_1h  snow_1h  clouds_all weather_main  \\\n",
       "0    None  288.28      0.0      0.0          40       Clouds   \n",
       "1    None  289.36      0.0      0.0          75       Clouds   \n",
       "2    None  289.58      0.0      0.0          90       Clouds   \n",
       "\n",
       "  weather_description           date_time  traffic_volume  hour  \n",
       "0    scattered clouds 2012-10-02 09:00:00            5545     9  \n",
       "1       broken clouds 2012-10-02 10:00:00            4516    10  \n",
       "2     overcast clouds 2012-10-02 11:00:00            4767    11  "
      ]
     },
     "execution_count": 14,
     "metadata": {},
     "output_type": "execute_result"
    }
   ],
   "source": [
    "daytime = traffic[(traffic.hour>=7) & (traffic.hour<19)]\n",
    "\n",
    "daytime.head(3)"
   ]
  },
  {
   "cell_type": "code",
   "execution_count": 15,
   "id": "edb5efa0",
   "metadata": {},
   "outputs": [
    {
     "data": {
      "text/html": [
       "<div>\n",
       "<style scoped>\n",
       "    .dataframe tbody tr th:only-of-type {\n",
       "        vertical-align: middle;\n",
       "    }\n",
       "\n",
       "    .dataframe tbody tr th {\n",
       "        vertical-align: top;\n",
       "    }\n",
       "\n",
       "    .dataframe thead th {\n",
       "        text-align: right;\n",
       "    }\n",
       "</style>\n",
       "<table border=\"1\" class=\"dataframe\">\n",
       "  <thead>\n",
       "    <tr style=\"text-align: right;\">\n",
       "      <th></th>\n",
       "      <th>holiday</th>\n",
       "      <th>temp</th>\n",
       "      <th>rain_1h</th>\n",
       "      <th>snow_1h</th>\n",
       "      <th>clouds_all</th>\n",
       "      <th>weather_main</th>\n",
       "      <th>weather_description</th>\n",
       "      <th>date_time</th>\n",
       "      <th>traffic_volume</th>\n",
       "      <th>hour</th>\n",
       "    </tr>\n",
       "  </thead>\n",
       "  <tbody>\n",
       "    <tr>\n",
       "      <th>10</th>\n",
       "      <td>None</td>\n",
       "      <td>290.97</td>\n",
       "      <td>0.0</td>\n",
       "      <td>0.0</td>\n",
       "      <td>20</td>\n",
       "      <td>Clouds</td>\n",
       "      <td>few clouds</td>\n",
       "      <td>2012-10-02 19:00:00</td>\n",
       "      <td>3539</td>\n",
       "      <td>19</td>\n",
       "    </tr>\n",
       "    <tr>\n",
       "      <th>11</th>\n",
       "      <td>None</td>\n",
       "      <td>289.38</td>\n",
       "      <td>0.0</td>\n",
       "      <td>0.0</td>\n",
       "      <td>1</td>\n",
       "      <td>Clear</td>\n",
       "      <td>sky is clear</td>\n",
       "      <td>2012-10-02 20:00:00</td>\n",
       "      <td>2784</td>\n",
       "      <td>20</td>\n",
       "    </tr>\n",
       "    <tr>\n",
       "      <th>12</th>\n",
       "      <td>None</td>\n",
       "      <td>288.61</td>\n",
       "      <td>0.0</td>\n",
       "      <td>0.0</td>\n",
       "      <td>1</td>\n",
       "      <td>Clear</td>\n",
       "      <td>sky is clear</td>\n",
       "      <td>2012-10-02 21:00:00</td>\n",
       "      <td>2361</td>\n",
       "      <td>21</td>\n",
       "    </tr>\n",
       "  </tbody>\n",
       "</table>\n",
       "</div>"
      ],
      "text/plain": [
       "   holiday    temp  rain_1h  snow_1h  clouds_all weather_main  \\\n",
       "10    None  290.97      0.0      0.0          20       Clouds   \n",
       "11    None  289.38      0.0      0.0           1        Clear   \n",
       "12    None  288.61      0.0      0.0           1        Clear   \n",
       "\n",
       "   weather_description           date_time  traffic_volume  hour  \n",
       "10          few clouds 2012-10-02 19:00:00            3539    19  \n",
       "11        sky is clear 2012-10-02 20:00:00            2784    20  \n",
       "12        sky is clear 2012-10-02 21:00:00            2361    21  "
      ]
     },
     "execution_count": 15,
     "metadata": {},
     "output_type": "execute_result"
    }
   ],
   "source": [
    "nighttime = traffic[(traffic.hour<7) | (traffic.hour>=19)]\n",
    "\n",
    "nighttime.head(3)"
   ]
  },
  {
   "cell_type": "code",
   "execution_count": 16,
   "id": "bf959459",
   "metadata": {},
   "outputs": [
    {
     "data": {
      "text/plain": [
       "48187"
      ]
     },
     "execution_count": 16,
     "metadata": {},
     "output_type": "execute_result"
    }
   ],
   "source": [
    "len(daytime) + len(nighttime)"
   ]
  },
  {
   "cell_type": "markdown",
   "id": "e241a2b2",
   "metadata": {},
   "source": [
    "#### Now that we have a separate dataset for daytime and nighttime, let's look at the histograms of traffic volume side-by-side."
   ]
  },
  {
   "cell_type": "code",
   "execution_count": 17,
   "id": "94c212f8",
   "metadata": {},
   "outputs": [
    {
     "data": {
      "text/plain": [
       "Text(0.5, 0, 'Traffic volume')"
      ]
     },
     "execution_count": 17,
     "metadata": {},
     "output_type": "execute_result"
    },
    {
     "data": {
      "image/png": "[encoded data removed]",
      "text/plain": [
       "<Figure size 864x360 with 2 Axes>"
      ]
     },
     "metadata": {
      "needs_background": "light"
     },
     "output_type": "display_data"
    }
   ],
   "source": [
    "plt.figure(figsize=(12, 5))\n",
    "\n",
    "plt.subplot(1, 2, 1)\n",
    "daytime.traffic_volume.plot.hist()\n",
    "plt.yticks([0, 2000, 4000, 6000, 8000])\n",
    "plt.xlim(-100, 8000)\n",
    "plt.title('Daytime', fontsize=15, fontweight=\"bold\",color='#434656', pad=10)\n",
    "plt.xlabel('Traffic volume',fontsize=14,color='#434656')\n",
    "\n",
    "plt.subplot(1,2,2)\n",
    "nighttime.traffic_volume.plot.hist(xlim = (0, 7000), ylim = (0, 8000))\n",
    "plt.yticks([0, 2000, 4000, 6000, 8000])\n",
    "plt.xlim(-100, 8000)\n",
    "plt.title('Nighttime', fontsize=15, fontweight=\"bold\",color='#434656', pad=10)\n",
    "plt.xlabel('Traffic volume',fontsize=14,color='#434656')"
   ]
  },
  {
   "cell_type": "code",
   "execution_count": 18,
   "id": "a6fe3a7e",
   "metadata": {},
   "outputs": [
    {
     "data": {
      "text/plain": [
       "count    23867.000000\n",
       "mean      4762.033351\n",
       "std       1174.763788\n",
       "min          0.000000\n",
       "25%       4252.000000\n",
       "50%       4820.000000\n",
       "75%       5559.000000\n",
       "max       7280.000000\n",
       "Name: traffic_volume, dtype: float64"
      ]
     },
     "execution_count": 18,
     "metadata": {},
     "output_type": "execute_result"
    }
   ],
   "source": [
    "daytime.traffic_volume.describe()"
   ]
  },
  {
   "cell_type": "code",
   "execution_count": 19,
   "id": "addb6c65",
   "metadata": {},
   "outputs": [
    {
     "data": {
      "text/plain": [
       "count    24320.000000\n",
       "mean      1785.187870\n",
       "std       1441.840234\n",
       "min          0.000000\n",
       "25%        530.000000\n",
       "50%       1286.500000\n",
       "75%       2819.000000\n",
       "max       6386.000000\n",
       "Name: traffic_volume, dtype: float64"
      ]
     },
     "execution_count": 19,
     "metadata": {},
     "output_type": "execute_result"
    }
   ],
   "source": [
    "nighttime.traffic_volume.describe()"
   ]
  },
  {
   "cell_type": "markdown",
   "id": "e5518388",
   "metadata": {},
   "source": [
    "<p style='background:yellow'>We can see that the daytime histogram is left-skew, suggesting that most traffic volume values were high. Based on the statistic, 75% of the time, more than 4352 cars on average pass the station every hour. On the other hand, the nighttime histogram is right-skew, which means that most of the traffic volume values were low; 75% of the time, the number of cars on the road was not higher than 2,819.\n",
    "<br>\n",
    "<br>Although there were still times at night when traffic volume was over 6000 cars per hour, the traffic at night is generally low. Our goal is to find indicators of heavy traffic, so moving forward, we'll only focus on the daytime data.</p>"
   ]
  },
  {
   "cell_type": "markdown",
   "id": "434dd14b",
   "metadata": {},
   "source": [
    "### 2. Analyzing daytime traffic volume - Time indicator"
   ]
  },
  {
   "cell_type": "markdown",
   "id": "f7de7fad",
   "metadata": {},
   "source": [
    "One of the possible reasons for heavy traffic is time. There might be more (or less) people on the road during certain months, dates, or times. We'll continue to analyze the data according to 3 different time frames:\n",
    "- Month\n",
    "- Day of the week\n",
    "- Time of day"
   ]
  },
  {
   "cell_type": "markdown",
   "id": "ba8b5d51",
   "metadata": {},
   "source": [
    "#### Comparing average traffic by month"
   ]
  },
  {
   "cell_type": "code",
   "execution_count": 20,
   "id": "7236e61f",
   "metadata": {},
   "outputs": [
    {
     "data": {
      "text/html": [
       "<div>\n",
       "<style scoped>\n",
       "    .dataframe tbody tr th:only-of-type {\n",
       "        vertical-align: middle;\n",
       "    }\n",
       "\n",
       "    .dataframe tbody tr th {\n",
       "        vertical-align: top;\n",
       "    }\n",
       "\n",
       "    .dataframe thead th {\n",
       "        text-align: right;\n",
       "    }\n",
       "</style>\n",
       "<table border=\"1\" class=\"dataframe\">\n",
       "  <thead>\n",
       "    <tr style=\"text-align: right;\">\n",
       "      <th></th>\n",
       "      <th>holiday</th>\n",
       "      <th>temp</th>\n",
       "      <th>rain_1h</th>\n",
       "      <th>snow_1h</th>\n",
       "      <th>clouds_all</th>\n",
       "      <th>weather_main</th>\n",
       "      <th>weather_description</th>\n",
       "      <th>date_time</th>\n",
       "      <th>traffic_volume</th>\n",
       "      <th>hour</th>\n",
       "      <th>month</th>\n",
       "    </tr>\n",
       "  </thead>\n",
       "  <tbody>\n",
       "    <tr>\n",
       "      <th>0</th>\n",
       "      <td>None</td>\n",
       "      <td>288.28</td>\n",
       "      <td>0.0</td>\n",
       "      <td>0.0</td>\n",
       "      <td>40</td>\n",
       "      <td>Clouds</td>\n",
       "      <td>scattered clouds</td>\n",
       "      <td>2012-10-02 09:00:00</td>\n",
       "      <td>5545</td>\n",
       "      <td>9</td>\n",
       "      <td>10</td>\n",
       "    </tr>\n",
       "    <tr>\n",
       "      <th>1</th>\n",
       "      <td>None</td>\n",
       "      <td>289.36</td>\n",
       "      <td>0.0</td>\n",
       "      <td>0.0</td>\n",
       "      <td>75</td>\n",
       "      <td>Clouds</td>\n",
       "      <td>broken clouds</td>\n",
       "      <td>2012-10-02 10:00:00</td>\n",
       "      <td>4516</td>\n",
       "      <td>10</td>\n",
       "      <td>10</td>\n",
       "    </tr>\n",
       "    <tr>\n",
       "      <th>2</th>\n",
       "      <td>None</td>\n",
       "      <td>289.58</td>\n",
       "      <td>0.0</td>\n",
       "      <td>0.0</td>\n",
       "      <td>90</td>\n",
       "      <td>Clouds</td>\n",
       "      <td>overcast clouds</td>\n",
       "      <td>2012-10-02 11:00:00</td>\n",
       "      <td>4767</td>\n",
       "      <td>11</td>\n",
       "      <td>10</td>\n",
       "    </tr>\n",
       "  </tbody>\n",
       "</table>\n",
       "</div>"
      ],
      "text/plain": [
       "  holiday    temp  rain_1h  snow_1h  clouds_all weather_main  \\\n",
       "0    None  288.28      0.0      0.0          40       Clouds   \n",
       "1    None  289.36      0.0      0.0          75       Clouds   \n",
       "2    None  289.58      0.0      0.0          90       Clouds   \n",
       "\n",
       "  weather_description           date_time  traffic_volume  hour  month  \n",
       "0    scattered clouds 2012-10-02 09:00:00            5545     9     10  \n",
       "1       broken clouds 2012-10-02 10:00:00            4516    10     10  \n",
       "2     overcast clouds 2012-10-02 11:00:00            4767    11     10  "
      ]
     },
     "execution_count": 20,
     "metadata": {},
     "output_type": "execute_result"
    }
   ],
   "source": [
    "daytime['month'] = daytime.date_time.dt.month\n",
    "\n",
    "daytime.head(3)"
   ]
  },
  {
   "cell_type": "code",
   "execution_count": 21,
   "id": "a0b94e53",
   "metadata": {},
   "outputs": [
    {
     "data": {
      "text/plain": [
       "month\n",
       "1     4495.613727\n",
       "2     4711.198394\n",
       "3     4889.409560\n",
       "4     4906.894305\n",
       "5     4911.121609\n",
       "6     4897.963395\n",
       "7     4595.035744\n",
       "8     4928.302035\n",
       "9     4870.517723\n",
       "10    4921.395402\n",
       "11    4704.094319\n",
       "12    4374.970398\n",
       "Name: traffic_volume, dtype: float64"
      ]
     },
     "execution_count": 21,
     "metadata": {},
     "output_type": "execute_result"
    }
   ],
   "source": [
    "traffic_by_month = daytime.groupby('month').mean().traffic_volume\n",
    "traffic_by_month "
   ]
  },
  {
   "cell_type": "code",
   "execution_count": 22,
   "id": "3eefb2d5",
   "metadata": {},
   "outputs": [
    {
     "data": {
      "text/plain": [
       "Text(0.5, 0, 'Month')"
      ]
     },
     "execution_count": 22,
     "metadata": {},
     "output_type": "execute_result"
    },
    {
     "data": {
      "image/png": "[encoded data removed]",
      "text/plain": [
       "<Figure size 432x288 with 1 Axes>"
      ]
     },
     "metadata": {
      "needs_background": "light"
     },
     "output_type": "display_data"
    }
   ],
   "source": [
    "traffic_by_month.plot()\n",
    "plt.title('Traffic per month',fontsize=15, fontweight=\"bold\",color='#434656', pad=10)\n",
    "plt.ylabel('Traffic volume',fontsize=14,color='#434656')\n",
    "plt.xlabel('Month',fontsize=14,color='#434656')"
   ]
  },
  {
   "cell_type": "markdown",
   "id": "5b1fc6ea",
   "metadata": {},
   "source": [
    "<p style='background:yellow'>Traffic volume was at its lowest in December. It looks like from November to February, the traffic was lighter than during other months of the year. This was probably due to holidays, people reduced their need to travel. \n",
    "<br> It's a bit strange to see a sudden drop around July. So let's look at July data throughout different years to see whether it's normal.</p>"
   ]
  },
  {
   "cell_type": "code",
   "execution_count": 23,
   "id": "880fdb11",
   "metadata": {},
   "outputs": [
    {
     "data": {
      "text/html": [
       "<div>\n",
       "<style scoped>\n",
       "    .dataframe tbody tr th:only-of-type {\n",
       "        vertical-align: middle;\n",
       "    }\n",
       "\n",
       "    .dataframe tbody tr th {\n",
       "        vertical-align: top;\n",
       "    }\n",
       "\n",
       "    .dataframe thead th {\n",
       "        text-align: right;\n",
       "    }\n",
       "</style>\n",
       "<table border=\"1\" class=\"dataframe\">\n",
       "  <thead>\n",
       "    <tr style=\"text-align: right;\">\n",
       "      <th></th>\n",
       "      <th>holiday</th>\n",
       "      <th>temp</th>\n",
       "      <th>rain_1h</th>\n",
       "      <th>snow_1h</th>\n",
       "      <th>clouds_all</th>\n",
       "      <th>weather_main</th>\n",
       "      <th>weather_description</th>\n",
       "      <th>date_time</th>\n",
       "      <th>traffic_volume</th>\n",
       "      <th>hour</th>\n",
       "      <th>month</th>\n",
       "      <th>year</th>\n",
       "    </tr>\n",
       "  </thead>\n",
       "  <tbody>\n",
       "    <tr>\n",
       "      <th>7350</th>\n",
       "      <td>None</td>\n",
       "      <td>289.15</td>\n",
       "      <td>0.0</td>\n",
       "      <td>0.0</td>\n",
       "      <td>75</td>\n",
       "      <td>Clouds</td>\n",
       "      <td>broken clouds</td>\n",
       "      <td>2013-07-01 07:00:00</td>\n",
       "      <td>6783</td>\n",
       "      <td>7</td>\n",
       "      <td>7</td>\n",
       "      <td>2013</td>\n",
       "    </tr>\n",
       "    <tr>\n",
       "      <th>7351</th>\n",
       "      <td>None</td>\n",
       "      <td>291.59</td>\n",
       "      <td>0.0</td>\n",
       "      <td>0.0</td>\n",
       "      <td>1</td>\n",
       "      <td>Clear</td>\n",
       "      <td>sky is clear</td>\n",
       "      <td>2013-07-01 08:00:00</td>\n",
       "      <td>5742</td>\n",
       "      <td>8</td>\n",
       "      <td>7</td>\n",
       "      <td>2013</td>\n",
       "    </tr>\n",
       "    <tr>\n",
       "      <th>7352</th>\n",
       "      <td>None</td>\n",
       "      <td>294.15</td>\n",
       "      <td>0.0</td>\n",
       "      <td>0.0</td>\n",
       "      <td>1</td>\n",
       "      <td>Clear</td>\n",
       "      <td>sky is clear</td>\n",
       "      <td>2013-07-01 09:00:00</td>\n",
       "      <td>4764</td>\n",
       "      <td>9</td>\n",
       "      <td>7</td>\n",
       "      <td>2013</td>\n",
       "    </tr>\n",
       "  </tbody>\n",
       "</table>\n",
       "</div>"
      ],
      "text/plain": [
       "     holiday    temp  rain_1h  snow_1h  clouds_all weather_main  \\\n",
       "7350    None  289.15      0.0      0.0          75       Clouds   \n",
       "7351    None  291.59      0.0      0.0           1        Clear   \n",
       "7352    None  294.15      0.0      0.0           1        Clear   \n",
       "\n",
       "     weather_description           date_time  traffic_volume  hour  month  \\\n",
       "7350       broken clouds 2013-07-01 07:00:00            6783     7      7   \n",
       "7351        sky is clear 2013-07-01 08:00:00            5742     8      7   \n",
       "7352        sky is clear 2013-07-01 09:00:00            4764     9      7   \n",
       "\n",
       "      year  \n",
       "7350  2013  \n",
       "7351  2013  \n",
       "7352  2013  "
      ]
     },
     "execution_count": 23,
     "metadata": {},
     "output_type": "execute_result"
    }
   ],
   "source": [
    "traffic_july = daytime[daytime.month == 7]\n",
    "traffic_july['year'] = traffic_july.date_time.dt.year\n",
    "\n",
    "traffic_july.head(3)"
   ]
  },
  {
   "cell_type": "code",
   "execution_count": 24,
   "id": "d7383420",
   "metadata": {},
   "outputs": [
    {
     "data": {
      "text/plain": [
       "<AxesSubplot:xlabel='year'>"
      ]
     },
     "execution_count": 24,
     "metadata": {},
     "output_type": "execute_result"
    },
    {
     "data": {
      "image/png": "[encoded data removed]",
      "text/plain": [
       "<Figure size 432x288 with 1 Axes>"
      ]
     },
     "metadata": {
      "needs_background": "light"
     },
     "output_type": "display_data"
    }
   ],
   "source": [
    "traffic_july = traffic_july.groupby('year').mean().traffic_volume\n",
    "traffic_july.plot()"
   ]
  },
  {
   "cell_type": "markdown",
   "id": "8abf7aa9",
   "metadata": {},
   "source": [
    "<p style='background:yellow'>Generally, we can see that the traffic in July was also heavy (above 4500). The only exception was in 2016 when the number went down to below 4000. Because this was rare (only happend once), it's safe to say that during Mar to Oct, the traffic was heavier compared to the rest of the year.<p>"
   ]
  },
  {
   "cell_type": "markdown",
   "id": "6ac95f0a",
   "metadata": {},
   "source": [
    "#### Comparing average traffic by day and time"
   ]
  },
  {
   "cell_type": "code",
   "execution_count": 25,
   "id": "82b79bae",
   "metadata": {},
   "outputs": [
    {
     "data": {
      "text/plain": [
       "Text(0.5, 0, 'Day of week')"
      ]
     },
     "execution_count": 25,
     "metadata": {},
     "output_type": "execute_result"
    },
    {
     "data": {
      "image/png": "[encoded data removed]",
      "text/plain": [
       "<Figure size 432x288 with 1 Axes>"
      ]
     },
     "metadata": {
      "needs_background": "light"
     },
     "output_type": "display_data"
    }
   ],
   "source": [
    "daytime['day_of_week'] = daytime.date_time.dt.dayofweek\n",
    "\n",
    "traffic_by_day = daytime.groupby('day_of_week').mean().traffic_volume\n",
    "traffic_by_day.plot()\n",
    "plt.title('Traffic per day',fontsize=15, fontweight=\"bold\",color='#434656', pad=10)\n",
    "plt.ylabel('Traffic volume',fontsize=14,color='#434656')\n",
    "plt.xlabel('Day of week',fontsize=14,color='#434656')"
   ]
  },
  {
   "cell_type": "markdown",
   "id": "0fe5c518",
   "metadata": {},
   "source": [
    "<p style='background:yellow'>From the graph, we can see heavier traffic volume during business days (Monday to Friday) and lighter during the weekend (Saturday and Sunday).</p>"
   ]
  },
  {
   "cell_type": "code",
   "execution_count": 41,
   "id": "7b204396",
   "metadata": {},
   "outputs": [],
   "source": [
    "traffic_on_week_day = daytime[(daytime.day_of_week <6)]\n",
    "traffic_on_week_day = traffic_on_week_day.groupby('hour').mean().traffic_volume\n",
    "\n",
    "traffic_on_weekend = daytime[(daytime.day_of_week >= 6)]\n",
    "traffic_on_weekend = traffic_on_weekend.groupby('hour').mean().traffic_volume"
   ]
  },
  {
   "cell_type": "code",
   "execution_count": 67,
   "id": "d8870ede",
   "metadata": {},
   "outputs": [
    {
     "data": {
      "text/plain": [
       "<matplotlib.legend.Legend at 0x7fbcc7762ee0>"
      ]
     },
     "execution_count": 67,
     "metadata": {},
     "output_type": "execute_result"
    },
    {
     "data": {
      "image/png": "[encoded data removed]",
      "text/plain": [
       "<Figure size 1080x792 with 3 Axes>"
      ]
     },
     "metadata": {
      "needs_background": "light"
     },
     "output_type": "display_data"
    }
   ],
   "source": [
    "plt.figure(figsize = (15,11))\n",
    "\n",
    "plt.subplot(2,2,1)\n",
    "traffic_on_working_day.plot(ylim=(0,6500), xlim=(6,19))\n",
    "plt.title('Weekday\\'s traffic per hour ',fontsize=15, fontweight=\"bold\",color='#434656', pad=10)\n",
    "plt.ylabel('Traffic volume',fontsize=14,color='#434656')\n",
    "#plt.xlabel('Hour',fontsize=14,color='#434656')\n",
    "\n",
    "plt.subplot(2,2,2)\n",
    "traffic_on_weekend.plot(ylim=(0,6600), xlim=(6,19))\n",
    "plt.title('Weekend\\'s traffic per hour ',fontsize=15, fontweight=\"bold\",color='#434656', pad=10)\n",
    "plt.ylabel('Traffic volume',fontsize=14,color='#434656')\n",
    "#plt.xlabel('Hour',fontsize=14,color='#434656')\n",
    "\n",
    "plt.subplot(2,2,3)\n",
    "traffic_on_working_day.plot(label='weekdays')\n",
    "traffic_on_weekend.plot(label='weekend')\n",
    "plt.ylabel('Traffic volume',fontsize=14,color='#434656')\n",
    "plt.title('Traffic volume per hour ',fontsize=15, fontweight=\"bold\",color='#434656', pad=10)\n",
    "plt.legend()"
   ]
  },
  {
   "cell_type": "markdown",
   "id": "22317896",
   "metadata": {},
   "source": [
    "<p style='background:yellow'>In general, we can see that the traffic volume was high during weekdays. The rush hours were around 7h and 16h, when it can reach up to 6000 cars on the road per hour — this was probably the time people traveled to and from work.\n",
    "<br>On weekends, traffic volume was low, especially in the morning. It started to increase and reached its peak around 12h-16h, but comparing to weekday, the volume was relatively low (not even reach 4000).</p>"
   ]
  },
  {
   "cell_type": "markdown",
   "id": "0ea703da",
   "metadata": {},
   "source": [
    "### 3. Analyzing daytime traffic volume - Weather indicator"
   ]
  },
  {
   "cell_type": "markdown",
   "id": "e552530c",
   "metadata": {},
   "source": [
    "Another indicator that could influence traffic is the weather. Our dataset contains some information relating to the weather:\n",
    "- temp\n",
    "- rain_1h\n",
    "- snow_1h\n",
    "- clouds_all\n",
    "- weather_main\n",
    "- weather_description\n",
    "\n",
    "Some of these columns are numerical. So let’s look at the correlation table to see if we can find a significant correlation between traffic volume and the weather."
   ]
  },
  {
   "cell_type": "code",
   "execution_count": 72,
   "id": "21db7ed4",
   "metadata": {},
   "outputs": [
    {
     "data": {
      "text/plain": [
       "temp              0.128248\n",
       "rain_1h           0.003697\n",
       "snow_1h           0.001266\n",
       "clouds_all       -0.032969\n",
       "traffic_volume    1.000000\n",
       "hour              0.172793\n",
       "month            -0.022286\n",
       "day_of_week      -0.416535\n",
       "Name: traffic_volume, dtype: float64"
      ]
     },
     "execution_count": 72,
     "metadata": {},
     "output_type": "execute_result"
    }
   ],
   "source": [
    "daytime.corr()['traffic_volume']"
   ]
  },
  {
   "cell_type": "markdown",
   "id": "f6d6e89c",
   "metadata": {},
   "source": [
    "<p style = 'background:yellow'>We can see that the correlation was the highest between 'temp' and 'traffic volume', which was also just 0.128. For other conditions like rain, snow, and clouds, it showed a really weak correlation.</p>\n",
    "\n",
    "Let's generate some scatter plots to visualize the correlation between them"
   ]
  },
  {
   "cell_type": "code",
   "execution_count": 105,
   "id": "7d49a6d4",
   "metadata": {},
   "outputs": [
    {
     "data": {
      "text/plain": [
       "Text(0, 0.5, 'Clouds')"
      ]
     },
     "execution_count": 105,
     "metadata": {},
     "output_type": "execute_result"
    },
    {
     "data": {
      "image/png": "[encoded data removed]",
      "text/plain": [
       "<Figure size 936x720 with 4 Axes>"
      ]
     },
     "metadata": {
      "needs_background": "light"
     },
     "output_type": "display_data"
    }
   ],
   "source": [
    "plt.figure(figsize = (13,10))\n",
    "\n",
    "# Correlation between 'temp' and 'traffic_volume'\n",
    "\n",
    "plt.subplot(2,2,1)\n",
    "plt.scatter(daytime.traffic_volume, daytime.temp)\n",
    "plt.ylim(230, 320)\n",
    "plt.title(\"Temp vs Traffic Volume\")\n",
    "plt.xlabel('Traffic volume')\n",
    "plt.ylabel('Temperature °C')\n",
    "\n",
    "# Correlation between 'rain' and 'traffic_volume'\n",
    "plt.subplot(2,2,2)\n",
    "plt.scatter(daytime.traffic_volume, daytime.rain_1h)\n",
    "plt.title(\"Rain vs Traffic Volume\")\n",
    "plt.xlabel('Traffic volume')\n",
    "plt.ylabel('Rain')\n",
    "\n",
    "# Correlation between 'snow' and 'traffic_volume'\n",
    "plt.subplot(2,2,3)\n",
    "plt.scatter(daytime.traffic_volume, daytime.snow_1h)\n",
    "plt.title(\"Snow vs Traffic Volume\")\n",
    "plt.xlabel('Traffic volume')\n",
    "plt.ylabel('Snow')\n",
    "\n",
    "# Correlation between 'cloud' and 'traffic_volume'\n",
    "plt.subplot(2,2,4)\n",
    "plt.scatter(daytime.traffic_volume, daytime.clouds_all)\n",
    "plt.title(\"Clouds vs Traffic Volume\")\n",
    "plt.xlabel('Traffic volume')\n",
    "plt.ylabel('Clouds')"
   ]
  },
  {
   "cell_type": "markdown",
   "id": "d44d8561",
   "metadata": {},
   "source": [
    "<p style = 'background:yellow'>We can see that, even for temp, which showed the strongest correlation in the correlation table, it doesn't look like a significant indicator of heavy traffic. Similarly, the other 3 columns display no solid correlation with traffic volume.<p>\n",
    "\n",
    "Let's continue by looking at the remaining two weather-related columns: \n",
    "- weather_main\n",
    "- weather_description"
   ]
  },
  {
   "cell_type": "code",
   "execution_count": 114,
   "id": "1de07f47",
   "metadata": {},
   "outputs": [
    {
     "data": {
      "text/plain": [
       "<AxesSubplot:ylabel='weather_main'>"
      ]
     },
     "execution_count": 114,
     "metadata": {},
     "output_type": "execute_result"
    },
    {
     "data": {
      "image/png": "[encoded data removed]",
      "text/plain": [
       "<Figure size 432x288 with 1 Axes>"
      ]
     },
     "metadata": {
      "needs_background": "light"
     },
     "output_type": "display_data"
    }
   ],
   "source": [
    "# Finding traffic_volume average based on weather_main column\n",
    "\n",
    "by_weather_main = daytime.groupby('weather_main').mean().traffic_volume\n",
    "by_weather_main.plot.barh()"
   ]
  },
  {
   "cell_type": "markdown",
   "id": "55330bf8",
   "metadata": {},
   "source": [
    "<p style = 'background:yellow'>\n",
    "We see no significant difference from the bar chart suggesting any single weather-related indicator causing heavy traffic. There was no weather type where traffic volume exceeded 5,000 cars. \n",
    "</p>"
   ]
  },
  {
   "cell_type": "code",
   "execution_count": 134,
   "id": "c3a20727",
   "metadata": {},
   "outputs": [
    {
     "data": {
      "text/plain": [
       "<matplotlib.lines.Line2D at 0x7fbccd751100>"
      ]
     },
     "execution_count": 134,
     "metadata": {},
     "output_type": "execute_result"
    },
    {
     "data": {
      "image/png": "[encoded data removed]",
      "text/plain": [
       "<Figure size 1080x720 with 1 Axes>"
      ]
     },
     "metadata": {
      "needs_background": "light"
     },
     "output_type": "display_data"
    }
   ],
   "source": [
    "# Finding traffic_volume average based on weather_description column\n",
    "\n",
    "plt.figure(figsize = (15,10))\n",
    "by_weather_description = daytime.groupby('weather_description').mean().traffic_volume\n",
    "by_weather_description.plot.barh()\n",
    "plt.title('Weather condition vs traffic volume',fontsize=15, fontweight=\"bold\",color='#434656', pad=10)\n",
    "plt.xlabel('Traffic volume')\n",
    "plt.ylabel('Weather description')\n",
    "plt.axvline(5000,color ='red')"
   ]
  },
  {
   "cell_type": "markdown",
   "id": "e67d451d",
   "metadata": {},
   "source": [
    "<p style = 'background:yellow'>There are 3 weather conditions in which traffic volume exceeds 5000 cars:\n",
    "<br>- shower snow\n",
    "<br>- proximity thunderstorm with drizzle\n",
    "<br>- light rain and snow\n",
    "<br>It's not very clear why these types of weather resulted in bad traffic. Maybe when the weather was not good, people would prefer to travel by car instead of walking or riding a bike.</p>"
   ]
  },
  {
   "cell_type": "markdown",
   "id": "27473363",
   "metadata": {},
   "source": [
    "# III. Conclusion"
   ]
  },
  {
   "cell_type": "markdown",
   "id": "a1f50654",
   "metadata": {},
   "source": [
    "<p> In this project, we tried to find the main indicators of heavy traffic on the I-94 Interstate highway. We managed to find two major types of heavy traffic indicators: time and weather.\n",
    "\n",
    "1. Time Indicators:\n",
    "- Traffic was busier during daytime in comparison to nighttime\n",
    "- Traffic was usually heavier from March to October, compared to the rest of the year\n",
    "- During weekdays, the traffic volume was high, especially during rush hours (around 7:00 and 16:00)\n",
    "\n",
    "2. Weather Indicators: three weather patterns can be associated with heavier traffic:\n",
    "- Shower snow \n",
    "- Proximity thunderstorm with drizzles\n",
    "- Light rain and snow \n",
    "</p>"
   ]
  }
 ],
 "metadata": {
  "kernelspec": {
   "display_name": "Python 3",
   "language": "python",
   "name": "python3"
  },
  "language_info": {
   "codemirror_mode": {
    "name": "ipython",
    "version": 3
   },
   "file_extension": ".py",
   "mimetype": "text/x-python",
   "name": "python",
   "nbconvert_exporter": "python",
   "pygments_lexer": "ipython3",
   "version": "3.8.8"
  }
 },
 "nbformat": 4,
 "nbformat_minor": 5
}
